{
 "cells": [
  {
   "cell_type": "markdown",
   "id": "controlled-diana",
   "metadata": {},
   "source": [
    "**Import libraries**"
   ]
  },
  {
   "cell_type": "code",
   "execution_count": 1,
   "id": "partial-depression",
   "metadata": {},
   "outputs": [],
   "source": [
    "import pandas as pd\n",
    "from sklearn.model_selection import train_test_split\n",
    "from sklearn.preprocessing import OneHotEncoder\n",
    "from sklearn.preprocessing import LabelEncoder\n",
    "from sklearn.linear_model import LogisticRegression\n",
    "from sklearn.preprocessing import MinMaxScaler\n",
    "from sklearn.feature_selection import SelectKBest\n",
    "from sklearn.feature_selection import mutual_info_classif\n",
    "from sklearn.pipeline import Pipeline\n",
    "from sklearn.model_selection import RepeatedStratifiedKFold\n",
    "from sklearn.model_selection import cross_val_score\n",
    "from numpy import mean\n",
    "from numpy import std\n",
    "from numpy import percentile\n",
    "from numpy import nan\n",
    "import matplotlib.pyplot as plt\n",
    "%matplotlib inline\n",
    "import seaborn as sns\n",
    "\n",
    "import warnings\n",
    "warnings.filterwarnings(\"ignore\")"
   ]
  },
  {
   "cell_type": "markdown",
   "id": "affecting-antenna",
   "metadata": {},
   "source": [
    "**Membaca data**"
   ]
  },
  {
   "cell_type": "code",
   "execution_count": 2,
   "id": "wireless-sentence",
   "metadata": {
    "scrolled": true
   },
   "outputs": [
    {
     "data": {
      "text/html": [
       "<div>\n",
       "<style scoped>\n",
       "    .dataframe tbody tr th:only-of-type {\n",
       "        vertical-align: middle;\n",
       "    }\n",
       "\n",
       "    .dataframe tbody tr th {\n",
       "        vertical-align: top;\n",
       "    }\n",
       "\n",
       "    .dataframe thead th {\n",
       "        text-align: right;\n",
       "    }\n",
       "</style>\n",
       "<table border=\"1\" class=\"dataframe\">\n",
       "  <thead>\n",
       "    <tr style=\"text-align: right;\">\n",
       "      <th></th>\n",
       "      <th>Jenis Beasiswa</th>\n",
       "      <th>Tingkat Pendidikan yang Dituju</th>\n",
       "      <th>Negara Tujuan Kuliah</th>\n",
       "      <th>Bidang Studi yang dipilih saat mendaftar</th>\n",
       "      <th>Mendaftar dengan menggunakan LoA sesuai ketentuan LPDP</th>\n",
       "      <th>Apakah anda dinyatakan Lulus Seleksi Substansi Akademik Pada gelombang I Tahun 2021?</th>\n",
       "      <th>Jumlah Jawaban Benar pada Tes Penalaran Verbal</th>\n",
       "      <th>Jumlah Jawaban Benar pada Tes Kuantitatif</th>\n",
       "      <th>Jumlah Jawaban Benar pada Tes Pemecahan Masalah</th>\n",
       "      <th>[optional] Kampus/universitas tujuan saat ini (pilihan 1)</th>\n",
       "    </tr>\n",
       "  </thead>\n",
       "  <tbody>\n",
       "    <tr>\n",
       "      <th>0</th>\n",
       "      <td>Targeted</td>\n",
       "      <td>S2</td>\n",
       "      <td>Dalam negeri</td>\n",
       "      <td>TRP</td>\n",
       "      <td>Tidak</td>\n",
       "      <td>Ya</td>\n",
       "      <td>10</td>\n",
       "      <td>12</td>\n",
       "      <td>6</td>\n",
       "      <td>Universitas Indonesia</td>\n",
       "    </tr>\n",
       "    <tr>\n",
       "      <th>1</th>\n",
       "      <td>Reguler</td>\n",
       "      <td>S2</td>\n",
       "      <td>Luar Negeri</td>\n",
       "      <td>ENE</td>\n",
       "      <td>Ya, dengan Loa</td>\n",
       "      <td>Ya</td>\n",
       "      <td>17</td>\n",
       "      <td>22</td>\n",
       "      <td>8</td>\n",
       "      <td>UCL</td>\n",
       "    </tr>\n",
       "    <tr>\n",
       "      <th>2</th>\n",
       "      <td>Targeted</td>\n",
       "      <td>S2</td>\n",
       "      <td>Luar Negeri</td>\n",
       "      <td>ELE</td>\n",
       "      <td>Ya, dengan Loa</td>\n",
       "      <td>Ya</td>\n",
       "      <td>16</td>\n",
       "      <td>18</td>\n",
       "      <td>7</td>\n",
       "      <td>KTH Sweden</td>\n",
       "    </tr>\n",
       "    <tr>\n",
       "      <th>3</th>\n",
       "      <td>Reguler</td>\n",
       "      <td>S2</td>\n",
       "      <td>Dalam negeri</td>\n",
       "      <td>LIN</td>\n",
       "      <td>Tidak</td>\n",
       "      <td>Tidak</td>\n",
       "      <td>15</td>\n",
       "      <td>12</td>\n",
       "      <td>4</td>\n",
       "      <td>UGM</td>\n",
       "    </tr>\n",
       "    <tr>\n",
       "      <th>4</th>\n",
       "      <td>Afirmasi</td>\n",
       "      <td>S2</td>\n",
       "      <td>Luar Negeri</td>\n",
       "      <td>LIN</td>\n",
       "      <td>Tidak</td>\n",
       "      <td>Ya</td>\n",
       "      <td>16</td>\n",
       "      <td>9</td>\n",
       "      <td>7</td>\n",
       "      <td>University of Birmingham</td>\n",
       "    </tr>\n",
       "    <tr>\n",
       "      <th>...</th>\n",
       "      <td>...</td>\n",
       "      <td>...</td>\n",
       "      <td>...</td>\n",
       "      <td>...</td>\n",
       "      <td>...</td>\n",
       "      <td>...</td>\n",
       "      <td>...</td>\n",
       "      <td>...</td>\n",
       "      <td>...</td>\n",
       "      <td>...</td>\n",
       "    </tr>\n",
       "    <tr>\n",
       "      <th>426</th>\n",
       "      <td>Reguler</td>\n",
       "      <td>S2</td>\n",
       "      <td>Dalam negeri</td>\n",
       "      <td>718</td>\n",
       "      <td>Tidak</td>\n",
       "      <td>Tidak</td>\n",
       "      <td>23</td>\n",
       "      <td>25</td>\n",
       "      <td>12</td>\n",
       "      <td>UGM</td>\n",
       "    </tr>\n",
       "    <tr>\n",
       "      <th>427</th>\n",
       "      <td>Reguler</td>\n",
       "      <td>S2</td>\n",
       "      <td>Dalam negeri</td>\n",
       "      <td>TRP</td>\n",
       "      <td>Tidak</td>\n",
       "      <td>Tidak</td>\n",
       "      <td>14</td>\n",
       "      <td>14</td>\n",
       "      <td>6</td>\n",
       "      <td>UI</td>\n",
       "    </tr>\n",
       "    <tr>\n",
       "      <th>428</th>\n",
       "      <td>Targeted</td>\n",
       "      <td>S2</td>\n",
       "      <td>Luar Negeri</td>\n",
       "      <td>ENT</td>\n",
       "      <td>Tidak</td>\n",
       "      <td>Tidak</td>\n",
       "      <td>15</td>\n",
       "      <td>7</td>\n",
       "      <td>9</td>\n",
       "      <td>Imperial College London</td>\n",
       "    </tr>\n",
       "    <tr>\n",
       "      <th>429</th>\n",
       "      <td>Targeted</td>\n",
       "      <td>S2</td>\n",
       "      <td>Dalam negeri</td>\n",
       "      <td>TRP</td>\n",
       "      <td>Tidak</td>\n",
       "      <td>Ya</td>\n",
       "      <td>17</td>\n",
       "      <td>11</td>\n",
       "      <td>6</td>\n",
       "      <td>NaN</td>\n",
       "    </tr>\n",
       "    <tr>\n",
       "      <th>430</th>\n",
       "      <td>Reguler</td>\n",
       "      <td>S2</td>\n",
       "      <td>Luar Negeri</td>\n",
       "      <td>PSY</td>\n",
       "      <td>Tidak</td>\n",
       "      <td>Ya</td>\n",
       "      <td>18</td>\n",
       "      <td>12</td>\n",
       "      <td>7</td>\n",
       "      <td>NaN</td>\n",
       "    </tr>\n",
       "  </tbody>\n",
       "</table>\n",
       "<p>431 rows × 10 columns</p>\n",
       "</div>"
      ],
      "text/plain": [
       "    Jenis Beasiswa Tingkat Pendidikan yang Dituju Negara Tujuan Kuliah  \\\n",
       "0         Targeted                             S2         Dalam negeri   \n",
       "1          Reguler                             S2          Luar Negeri   \n",
       "2         Targeted                             S2          Luar Negeri   \n",
       "3          Reguler                             S2         Dalam negeri   \n",
       "4         Afirmasi                             S2          Luar Negeri   \n",
       "..             ...                            ...                  ...   \n",
       "426        Reguler                             S2         Dalam negeri   \n",
       "427        Reguler                             S2         Dalam negeri   \n",
       "428       Targeted                             S2          Luar Negeri   \n",
       "429       Targeted                             S2         Dalam negeri   \n",
       "430        Reguler                             S2          Luar Negeri   \n",
       "\n",
       "    Bidang Studi yang dipilih saat mendaftar  \\\n",
       "0                                        TRP   \n",
       "1                                        ENE   \n",
       "2                                        ELE   \n",
       "3                                        LIN   \n",
       "4                                        LIN   \n",
       "..                                       ...   \n",
       "426                                      718   \n",
       "427                                      TRP   \n",
       "428                                      ENT   \n",
       "429                                      TRP   \n",
       "430                                      PSY   \n",
       "\n",
       "    Mendaftar dengan menggunakan LoA sesuai ketentuan LPDP  \\\n",
       "0                                                Tidak       \n",
       "1                                       Ya, dengan Loa       \n",
       "2                                       Ya, dengan Loa       \n",
       "3                                                Tidak       \n",
       "4                                                Tidak       \n",
       "..                                                 ...       \n",
       "426                                              Tidak       \n",
       "427                                              Tidak       \n",
       "428                                              Tidak       \n",
       "429                                              Tidak       \n",
       "430                                              Tidak       \n",
       "\n",
       "    Apakah anda dinyatakan Lulus Seleksi Substansi Akademik Pada gelombang I Tahun 2021?  \\\n",
       "0                                                   Ya                                     \n",
       "1                                                   Ya                                     \n",
       "2                                                   Ya                                     \n",
       "3                                                Tidak                                     \n",
       "4                                                   Ya                                     \n",
       "..                                                 ...                                     \n",
       "426                                              Tidak                                     \n",
       "427                                              Tidak                                     \n",
       "428                                              Tidak                                     \n",
       "429                                                 Ya                                     \n",
       "430                                                 Ya                                     \n",
       "\n",
       "     Jumlah Jawaban Benar pada Tes Penalaran Verbal  \\\n",
       "0                                                10   \n",
       "1                                                17   \n",
       "2                                                16   \n",
       "3                                                15   \n",
       "4                                                16   \n",
       "..                                              ...   \n",
       "426                                              23   \n",
       "427                                              14   \n",
       "428                                              15   \n",
       "429                                              17   \n",
       "430                                              18   \n",
       "\n",
       "     Jumlah Jawaban Benar pada Tes Kuantitatif  \\\n",
       "0                                           12   \n",
       "1                                           22   \n",
       "2                                           18   \n",
       "3                                           12   \n",
       "4                                            9   \n",
       "..                                         ...   \n",
       "426                                         25   \n",
       "427                                         14   \n",
       "428                                          7   \n",
       "429                                         11   \n",
       "430                                         12   \n",
       "\n",
       "     Jumlah Jawaban Benar pada Tes Pemecahan Masalah  \\\n",
       "0                                                  6   \n",
       "1                                                  8   \n",
       "2                                                  7   \n",
       "3                                                  4   \n",
       "4                                                  7   \n",
       "..                                               ...   \n",
       "426                                               12   \n",
       "427                                                6   \n",
       "428                                                9   \n",
       "429                                                6   \n",
       "430                                                7   \n",
       "\n",
       "    [optional] Kampus/universitas tujuan saat ini (pilihan 1)  \n",
       "0                                Universitas Indonesia         \n",
       "1                                                  UCL         \n",
       "2                                           KTH Sweden         \n",
       "3                                                  UGM         \n",
       "4                             University of Birmingham         \n",
       "..                                                 ...         \n",
       "426                                                UGM         \n",
       "427                                                 UI         \n",
       "428                            Imperial College London         \n",
       "429                                                NaN         \n",
       "430                                                NaN         \n",
       "\n",
       "[431 rows x 10 columns]"
      ]
     },
     "execution_count": 2,
     "metadata": {},
     "output_type": "execute_result"
    }
   ],
   "source": [
    "df = pd.read_csv('Hasil TES SBK LPDP Gelombang 1 - 2021.csv')\n",
    "df"
   ]
  },
  {
   "cell_type": "markdown",
   "id": "manufactured-aging",
   "metadata": {},
   "source": [
    "<h3>Data Cleaning</h3>"
   ]
  },
  {
   "cell_type": "markdown",
   "id": "impressive-suspect",
   "metadata": {},
   "source": [
    "**Memeriksa tipe data**<br>\n",
    "Hal ini dilakukan dengan tujuan untuk memastikan setiap kolom sudah memiliki tipe data yang sesuai, baik itu integer, float, maupun object."
   ]
  },
  {
   "cell_type": "code",
   "execution_count": 3,
   "id": "fatal-portal",
   "metadata": {
    "scrolled": true
   },
   "outputs": [
    {
     "name": "stdout",
     "output_type": "stream",
     "text": [
      "<class 'pandas.core.frame.DataFrame'>\n",
      "RangeIndex: 431 entries, 0 to 430\n",
      "Data columns (total 10 columns):\n",
      " #   Column                                                                                Non-Null Count  Dtype \n",
      "---  ------                                                                                --------------  ----- \n",
      " 0   Jenis Beasiswa                                                                        431 non-null    object\n",
      " 1   Tingkat Pendidikan yang Dituju                                                        431 non-null    object\n",
      " 2   Negara Tujuan Kuliah                                                                  431 non-null    object\n",
      " 3   Bidang Studi yang dipilih saat mendaftar                                              431 non-null    object\n",
      " 4   Mendaftar dengan menggunakan LoA sesuai ketentuan LPDP                                431 non-null    object\n",
      " 5   Apakah anda dinyatakan Lulus Seleksi Substansi Akademik Pada gelombang I Tahun 2021?  431 non-null    object\n",
      " 6   Jumlah Jawaban Benar pada Tes Penalaran Verbal                                        431 non-null    int64 \n",
      " 7   Jumlah Jawaban Benar pada Tes Kuantitatif                                             431 non-null    int64 \n",
      " 8   Jumlah Jawaban Benar pada Tes Pemecahan Masalah                                       431 non-null    int64 \n",
      " 9   [optional] Kampus/universitas tujuan saat ini (pilihan 1)                             352 non-null    object\n",
      "dtypes: int64(3), object(7)\n",
      "memory usage: 33.8+ KB\n"
     ]
    }
   ],
   "source": [
    "df.info()"
   ]
  },
  {
   "cell_type": "markdown",
   "id": "mineral-twins",
   "metadata": {},
   "source": [
    "**Mengidentifikasi kolom yang memiliki single value**"
   ]
  },
  {
   "cell_type": "code",
   "execution_count": 4,
   "id": "express-snowboard",
   "metadata": {
    "scrolled": true
   },
   "outputs": [
    {
     "data": {
      "text/plain": [
       "Jenis Beasiswa                                                                            3\n",
       "Tingkat Pendidikan yang Dituju                                                            2\n",
       "Negara Tujuan Kuliah                                                                      2\n",
       "Bidang Studi yang dipilih saat mendaftar                                                 85\n",
       "Mendaftar dengan menggunakan LoA sesuai ketentuan LPDP                                    2\n",
       "Apakah anda dinyatakan Lulus Seleksi Substansi Akademik Pada gelombang I Tahun 2021?      2\n",
       "Jumlah Jawaban Benar pada Tes Penalaran Verbal                                           19\n",
       "Jumlah Jawaban Benar pada Tes Kuantitatif                                                23\n",
       "Jumlah Jawaban Benar pada Tes Pemecahan Masalah                                          12\n",
       "[optional] Kampus/universitas tujuan saat ini (pilihan 1)                               165\n",
       "dtype: int64"
      ]
     },
     "execution_count": 4,
     "metadata": {},
     "output_type": "execute_result"
    }
   ],
   "source": [
    "df.nunique()"
   ]
  },
  {
   "cell_type": "markdown",
   "id": "supported-physiology",
   "metadata": {},
   "source": [
    "Berdasarkan output di atas, dapat dilihat bahwa tidak ditemukan adanya kolom yang memiliki single value yang menyebabkan variansi dari suatu kolom menjadi 0. Oleh karena itu, tidak akan dilakukan perubahan apapun terkait proses identifikasi ini."
   ]
  },
  {
   "cell_type": "markdown",
   "id": "former-specialist",
   "metadata": {},
   "source": [
    "Selanjutnya yaitu proses identifikasi kolom yang memiliki few values atau low variance.\n",
    "\n",
    "Sebagian besar dari dataset ini, tipe kolomnya yaitu berupa kategorikal (label) dan bukanlah numerik sehingga meski nilai uniknya sedikit, variansinya tidaklah nol. Selain itu, memang tidak diperlukan variansi yang besar karena beberapa kolom pada dataset ini tipenya merupakan kategorikal (label) sehingga semua kategori itu penting. Oleh karena itu, tidak dapat dilakukan penghapusan kolom. Apabila dihapus, justru akan membuang data yang penting. "
   ]
  },
  {
   "cell_type": "markdown",
   "id": "romance-ticket",
   "metadata": {},
   "source": [
    "**Mengidentifikasi baris yang terduplikasi**"
   ]
  },
  {
   "cell_type": "code",
   "execution_count": 5,
   "id": "english-router",
   "metadata": {},
   "outputs": [
    {
     "data": {
      "text/plain": [
       "True"
      ]
     },
     "execution_count": 5,
     "metadata": {},
     "output_type": "execute_result"
    }
   ],
   "source": [
    "df.duplicated().any()"
   ]
  },
  {
   "cell_type": "markdown",
   "id": "primary-nursery",
   "metadata": {},
   "source": [
    "Berdasarkan output di atas, dapat dilihat bahwa ditemukan baris yang terduplikasi. Selanjutnya akan dilihat baris mana saja yang memiliki duplikasi."
   ]
  },
  {
   "cell_type": "code",
   "execution_count": 6,
   "id": "painted-chuck",
   "metadata": {},
   "outputs": [
    {
     "data": {
      "text/html": [
       "<div>\n",
       "<style scoped>\n",
       "    .dataframe tbody tr th:only-of-type {\n",
       "        vertical-align: middle;\n",
       "    }\n",
       "\n",
       "    .dataframe tbody tr th {\n",
       "        vertical-align: top;\n",
       "    }\n",
       "\n",
       "    .dataframe thead th {\n",
       "        text-align: right;\n",
       "    }\n",
       "</style>\n",
       "<table border=\"1\" class=\"dataframe\">\n",
       "  <thead>\n",
       "    <tr style=\"text-align: right;\">\n",
       "      <th></th>\n",
       "      <th>Jenis Beasiswa</th>\n",
       "      <th>Tingkat Pendidikan yang Dituju</th>\n",
       "      <th>Negara Tujuan Kuliah</th>\n",
       "      <th>Bidang Studi yang dipilih saat mendaftar</th>\n",
       "      <th>Mendaftar dengan menggunakan LoA sesuai ketentuan LPDP</th>\n",
       "      <th>Apakah anda dinyatakan Lulus Seleksi Substansi Akademik Pada gelombang I Tahun 2021?</th>\n",
       "      <th>Jumlah Jawaban Benar pada Tes Penalaran Verbal</th>\n",
       "      <th>Jumlah Jawaban Benar pada Tes Kuantitatif</th>\n",
       "      <th>Jumlah Jawaban Benar pada Tes Pemecahan Masalah</th>\n",
       "      <th>[optional] Kampus/universitas tujuan saat ini (pilihan 1)</th>\n",
       "    </tr>\n",
       "  </thead>\n",
       "  <tbody>\n",
       "    <tr>\n",
       "      <th>39</th>\n",
       "      <td>Targeted</td>\n",
       "      <td>S2</td>\n",
       "      <td>Dalam negeri</td>\n",
       "      <td>TRP</td>\n",
       "      <td>Ya, dengan Loa</td>\n",
       "      <td>Ya</td>\n",
       "      <td>13</td>\n",
       "      <td>12</td>\n",
       "      <td>6</td>\n",
       "      <td>Universitas Airlangga</td>\n",
       "    </tr>\n",
       "    <tr>\n",
       "      <th>122</th>\n",
       "      <td>Reguler</td>\n",
       "      <td>S2</td>\n",
       "      <td>Dalam negeri</td>\n",
       "      <td>M</td>\n",
       "      <td>Ya, dengan Loa</td>\n",
       "      <td>Tidak</td>\n",
       "      <td>13</td>\n",
       "      <td>10</td>\n",
       "      <td>7</td>\n",
       "      <td>UNESA</td>\n",
       "    </tr>\n",
       "    <tr>\n",
       "      <th>289</th>\n",
       "      <td>Targeted</td>\n",
       "      <td>S2</td>\n",
       "      <td>Luar Negeri</td>\n",
       "      <td>PUB</td>\n",
       "      <td>Tidak</td>\n",
       "      <td>Ya</td>\n",
       "      <td>18</td>\n",
       "      <td>17</td>\n",
       "      <td>7</td>\n",
       "      <td>UCL</td>\n",
       "    </tr>\n",
       "    <tr>\n",
       "      <th>339</th>\n",
       "      <td>Afirmasi</td>\n",
       "      <td>S2</td>\n",
       "      <td>Dalam negeri</td>\n",
       "      <td>IPA</td>\n",
       "      <td>Tidak</td>\n",
       "      <td>Ya</td>\n",
       "      <td>16</td>\n",
       "      <td>8</td>\n",
       "      <td>7</td>\n",
       "      <td>UGM</td>\n",
       "    </tr>\n",
       "    <tr>\n",
       "      <th>380</th>\n",
       "      <td>Afirmasi</td>\n",
       "      <td>S2</td>\n",
       "      <td>Luar Negeri</td>\n",
       "      <td>PUB</td>\n",
       "      <td>Tidak</td>\n",
       "      <td>Ya</td>\n",
       "      <td>15</td>\n",
       "      <td>13</td>\n",
       "      <td>8</td>\n",
       "      <td>University of Melbourne</td>\n",
       "    </tr>\n",
       "    <tr>\n",
       "      <th>386</th>\n",
       "      <td>Targeted</td>\n",
       "      <td>S2</td>\n",
       "      <td>Dalam negeri</td>\n",
       "      <td>TRP</td>\n",
       "      <td>Tidak</td>\n",
       "      <td>Ya</td>\n",
       "      <td>17</td>\n",
       "      <td>19</td>\n",
       "      <td>6</td>\n",
       "      <td>UGM</td>\n",
       "    </tr>\n",
       "  </tbody>\n",
       "</table>\n",
       "</div>"
      ],
      "text/plain": [
       "    Jenis Beasiswa Tingkat Pendidikan yang Dituju Negara Tujuan Kuliah  \\\n",
       "39        Targeted                             S2         Dalam negeri   \n",
       "122        Reguler                             S2         Dalam negeri   \n",
       "289       Targeted                             S2          Luar Negeri   \n",
       "339       Afirmasi                             S2         Dalam negeri   \n",
       "380       Afirmasi                             S2          Luar Negeri   \n",
       "386       Targeted                             S2         Dalam negeri   \n",
       "\n",
       "    Bidang Studi yang dipilih saat mendaftar  \\\n",
       "39                                       TRP   \n",
       "122                                        M   \n",
       "289                                      PUB   \n",
       "339                                      IPA   \n",
       "380                                      PUB   \n",
       "386                                      TRP   \n",
       "\n",
       "    Mendaftar dengan menggunakan LoA sesuai ketentuan LPDP  \\\n",
       "39                                      Ya, dengan Loa       \n",
       "122                                     Ya, dengan Loa       \n",
       "289                                              Tidak       \n",
       "339                                              Tidak       \n",
       "380                                              Tidak       \n",
       "386                                              Tidak       \n",
       "\n",
       "    Apakah anda dinyatakan Lulus Seleksi Substansi Akademik Pada gelombang I Tahun 2021?  \\\n",
       "39                                                  Ya                                     \n",
       "122                                              Tidak                                     \n",
       "289                                                 Ya                                     \n",
       "339                                                 Ya                                     \n",
       "380                                                 Ya                                     \n",
       "386                                                 Ya                                     \n",
       "\n",
       "     Jumlah Jawaban Benar pada Tes Penalaran Verbal  \\\n",
       "39                                               13   \n",
       "122                                              13   \n",
       "289                                              18   \n",
       "339                                              16   \n",
       "380                                              15   \n",
       "386                                              17   \n",
       "\n",
       "     Jumlah Jawaban Benar pada Tes Kuantitatif  \\\n",
       "39                                          12   \n",
       "122                                         10   \n",
       "289                                         17   \n",
       "339                                          8   \n",
       "380                                         13   \n",
       "386                                         19   \n",
       "\n",
       "     Jumlah Jawaban Benar pada Tes Pemecahan Masalah  \\\n",
       "39                                                 6   \n",
       "122                                                7   \n",
       "289                                                7   \n",
       "339                                                7   \n",
       "380                                                8   \n",
       "386                                                6   \n",
       "\n",
       "    [optional] Kampus/universitas tujuan saat ini (pilihan 1)  \n",
       "39                               Universitas Airlangga         \n",
       "122                                              UNESA         \n",
       "289                                                UCL         \n",
       "339                                                UGM         \n",
       "380                            University of Melbourne         \n",
       "386                                                UGM         "
      ]
     },
     "execution_count": 6,
     "metadata": {},
     "output_type": "execute_result"
    }
   ],
   "source": [
    "df[df.duplicated() == True]"
   ]
  },
  {
   "cell_type": "markdown",
   "id": "personal-philosophy",
   "metadata": {},
   "source": [
    "Akan dilihat juga baris yang terduplikasi tersebut memiliki duplikasinya di baris yang mana saja."
   ]
  },
  {
   "cell_type": "code",
   "execution_count": 7,
   "id": "honey-navigator",
   "metadata": {
    "scrolled": true
   },
   "outputs": [
    {
     "data": {
      "text/html": [
       "<div>\n",
       "<style scoped>\n",
       "    .dataframe tbody tr th:only-of-type {\n",
       "        vertical-align: middle;\n",
       "    }\n",
       "\n",
       "    .dataframe tbody tr th {\n",
       "        vertical-align: top;\n",
       "    }\n",
       "\n",
       "    .dataframe thead th {\n",
       "        text-align: right;\n",
       "    }\n",
       "</style>\n",
       "<table border=\"1\" class=\"dataframe\">\n",
       "  <thead>\n",
       "    <tr style=\"text-align: right;\">\n",
       "      <th></th>\n",
       "      <th>Jenis Beasiswa</th>\n",
       "      <th>Tingkat Pendidikan yang Dituju</th>\n",
       "      <th>Negara Tujuan Kuliah</th>\n",
       "      <th>Bidang Studi yang dipilih saat mendaftar</th>\n",
       "      <th>Mendaftar dengan menggunakan LoA sesuai ketentuan LPDP</th>\n",
       "      <th>Apakah anda dinyatakan Lulus Seleksi Substansi Akademik Pada gelombang I Tahun 2021?</th>\n",
       "      <th>Jumlah Jawaban Benar pada Tes Penalaran Verbal</th>\n",
       "      <th>Jumlah Jawaban Benar pada Tes Kuantitatif</th>\n",
       "      <th>Jumlah Jawaban Benar pada Tes Pemecahan Masalah</th>\n",
       "      <th>[optional] Kampus/universitas tujuan saat ini (pilihan 1)</th>\n",
       "    </tr>\n",
       "  </thead>\n",
       "  <tbody>\n",
       "    <tr>\n",
       "      <th>15</th>\n",
       "      <td>Targeted</td>\n",
       "      <td>S2</td>\n",
       "      <td>Dalam negeri</td>\n",
       "      <td>TRP</td>\n",
       "      <td>Ya, dengan Loa</td>\n",
       "      <td>Ya</td>\n",
       "      <td>13</td>\n",
       "      <td>12</td>\n",
       "      <td>6</td>\n",
       "      <td>Universitas Airlangga</td>\n",
       "    </tr>\n",
       "    <tr>\n",
       "      <th>39</th>\n",
       "      <td>Targeted</td>\n",
       "      <td>S2</td>\n",
       "      <td>Dalam negeri</td>\n",
       "      <td>TRP</td>\n",
       "      <td>Ya, dengan Loa</td>\n",
       "      <td>Ya</td>\n",
       "      <td>13</td>\n",
       "      <td>12</td>\n",
       "      <td>6</td>\n",
       "      <td>Universitas Airlangga</td>\n",
       "    </tr>\n",
       "    <tr>\n",
       "      <th>90</th>\n",
       "      <td>Reguler</td>\n",
       "      <td>S2</td>\n",
       "      <td>Dalam negeri</td>\n",
       "      <td>M</td>\n",
       "      <td>Ya, dengan Loa</td>\n",
       "      <td>Tidak</td>\n",
       "      <td>13</td>\n",
       "      <td>10</td>\n",
       "      <td>7</td>\n",
       "      <td>UNESA</td>\n",
       "    </tr>\n",
       "    <tr>\n",
       "      <th>97</th>\n",
       "      <td>Afirmasi</td>\n",
       "      <td>S2</td>\n",
       "      <td>Luar Negeri</td>\n",
       "      <td>PUB</td>\n",
       "      <td>Tidak</td>\n",
       "      <td>Ya</td>\n",
       "      <td>15</td>\n",
       "      <td>13</td>\n",
       "      <td>8</td>\n",
       "      <td>University of Melbourne</td>\n",
       "    </tr>\n",
       "    <tr>\n",
       "      <th>122</th>\n",
       "      <td>Reguler</td>\n",
       "      <td>S2</td>\n",
       "      <td>Dalam negeri</td>\n",
       "      <td>M</td>\n",
       "      <td>Ya, dengan Loa</td>\n",
       "      <td>Tidak</td>\n",
       "      <td>13</td>\n",
       "      <td>10</td>\n",
       "      <td>7</td>\n",
       "      <td>UNESA</td>\n",
       "    </tr>\n",
       "    <tr>\n",
       "      <th>201</th>\n",
       "      <td>Targeted</td>\n",
       "      <td>S2</td>\n",
       "      <td>Dalam negeri</td>\n",
       "      <td>TRP</td>\n",
       "      <td>Tidak</td>\n",
       "      <td>Ya</td>\n",
       "      <td>17</td>\n",
       "      <td>19</td>\n",
       "      <td>6</td>\n",
       "      <td>UGM</td>\n",
       "    </tr>\n",
       "    <tr>\n",
       "      <th>237</th>\n",
       "      <td>Afirmasi</td>\n",
       "      <td>S2</td>\n",
       "      <td>Dalam negeri</td>\n",
       "      <td>IPA</td>\n",
       "      <td>Tidak</td>\n",
       "      <td>Ya</td>\n",
       "      <td>16</td>\n",
       "      <td>8</td>\n",
       "      <td>7</td>\n",
       "      <td>UGM</td>\n",
       "    </tr>\n",
       "    <tr>\n",
       "      <th>265</th>\n",
       "      <td>Targeted</td>\n",
       "      <td>S2</td>\n",
       "      <td>Luar Negeri</td>\n",
       "      <td>PUB</td>\n",
       "      <td>Tidak</td>\n",
       "      <td>Ya</td>\n",
       "      <td>18</td>\n",
       "      <td>17</td>\n",
       "      <td>7</td>\n",
       "      <td>UCL</td>\n",
       "    </tr>\n",
       "    <tr>\n",
       "      <th>289</th>\n",
       "      <td>Targeted</td>\n",
       "      <td>S2</td>\n",
       "      <td>Luar Negeri</td>\n",
       "      <td>PUB</td>\n",
       "      <td>Tidak</td>\n",
       "      <td>Ya</td>\n",
       "      <td>18</td>\n",
       "      <td>17</td>\n",
       "      <td>7</td>\n",
       "      <td>UCL</td>\n",
       "    </tr>\n",
       "    <tr>\n",
       "      <th>339</th>\n",
       "      <td>Afirmasi</td>\n",
       "      <td>S2</td>\n",
       "      <td>Dalam negeri</td>\n",
       "      <td>IPA</td>\n",
       "      <td>Tidak</td>\n",
       "      <td>Ya</td>\n",
       "      <td>16</td>\n",
       "      <td>8</td>\n",
       "      <td>7</td>\n",
       "      <td>UGM</td>\n",
       "    </tr>\n",
       "    <tr>\n",
       "      <th>380</th>\n",
       "      <td>Afirmasi</td>\n",
       "      <td>S2</td>\n",
       "      <td>Luar Negeri</td>\n",
       "      <td>PUB</td>\n",
       "      <td>Tidak</td>\n",
       "      <td>Ya</td>\n",
       "      <td>15</td>\n",
       "      <td>13</td>\n",
       "      <td>8</td>\n",
       "      <td>University of Melbourne</td>\n",
       "    </tr>\n",
       "    <tr>\n",
       "      <th>386</th>\n",
       "      <td>Targeted</td>\n",
       "      <td>S2</td>\n",
       "      <td>Dalam negeri</td>\n",
       "      <td>TRP</td>\n",
       "      <td>Tidak</td>\n",
       "      <td>Ya</td>\n",
       "      <td>17</td>\n",
       "      <td>19</td>\n",
       "      <td>6</td>\n",
       "      <td>UGM</td>\n",
       "    </tr>\n",
       "  </tbody>\n",
       "</table>\n",
       "</div>"
      ],
      "text/plain": [
       "    Jenis Beasiswa Tingkat Pendidikan yang Dituju Negara Tujuan Kuliah  \\\n",
       "15        Targeted                             S2         Dalam negeri   \n",
       "39        Targeted                             S2         Dalam negeri   \n",
       "90         Reguler                             S2         Dalam negeri   \n",
       "97        Afirmasi                             S2          Luar Negeri   \n",
       "122        Reguler                             S2         Dalam negeri   \n",
       "201       Targeted                             S2         Dalam negeri   \n",
       "237       Afirmasi                             S2         Dalam negeri   \n",
       "265       Targeted                             S2          Luar Negeri   \n",
       "289       Targeted                             S2          Luar Negeri   \n",
       "339       Afirmasi                             S2         Dalam negeri   \n",
       "380       Afirmasi                             S2          Luar Negeri   \n",
       "386       Targeted                             S2         Dalam negeri   \n",
       "\n",
       "    Bidang Studi yang dipilih saat mendaftar  \\\n",
       "15                                       TRP   \n",
       "39                                       TRP   \n",
       "90                                         M   \n",
       "97                                       PUB   \n",
       "122                                        M   \n",
       "201                                      TRP   \n",
       "237                                      IPA   \n",
       "265                                      PUB   \n",
       "289                                      PUB   \n",
       "339                                      IPA   \n",
       "380                                      PUB   \n",
       "386                                      TRP   \n",
       "\n",
       "    Mendaftar dengan menggunakan LoA sesuai ketentuan LPDP  \\\n",
       "15                                      Ya, dengan Loa       \n",
       "39                                      Ya, dengan Loa       \n",
       "90                                      Ya, dengan Loa       \n",
       "97                                               Tidak       \n",
       "122                                     Ya, dengan Loa       \n",
       "201                                              Tidak       \n",
       "237                                              Tidak       \n",
       "265                                              Tidak       \n",
       "289                                              Tidak       \n",
       "339                                              Tidak       \n",
       "380                                              Tidak       \n",
       "386                                              Tidak       \n",
       "\n",
       "    Apakah anda dinyatakan Lulus Seleksi Substansi Akademik Pada gelombang I Tahun 2021?  \\\n",
       "15                                                  Ya                                     \n",
       "39                                                  Ya                                     \n",
       "90                                               Tidak                                     \n",
       "97                                                  Ya                                     \n",
       "122                                              Tidak                                     \n",
       "201                                                 Ya                                     \n",
       "237                                                 Ya                                     \n",
       "265                                                 Ya                                     \n",
       "289                                                 Ya                                     \n",
       "339                                                 Ya                                     \n",
       "380                                                 Ya                                     \n",
       "386                                                 Ya                                     \n",
       "\n",
       "     Jumlah Jawaban Benar pada Tes Penalaran Verbal  \\\n",
       "15                                               13   \n",
       "39                                               13   \n",
       "90                                               13   \n",
       "97                                               15   \n",
       "122                                              13   \n",
       "201                                              17   \n",
       "237                                              16   \n",
       "265                                              18   \n",
       "289                                              18   \n",
       "339                                              16   \n",
       "380                                              15   \n",
       "386                                              17   \n",
       "\n",
       "     Jumlah Jawaban Benar pada Tes Kuantitatif  \\\n",
       "15                                          12   \n",
       "39                                          12   \n",
       "90                                          10   \n",
       "97                                          13   \n",
       "122                                         10   \n",
       "201                                         19   \n",
       "237                                          8   \n",
       "265                                         17   \n",
       "289                                         17   \n",
       "339                                          8   \n",
       "380                                         13   \n",
       "386                                         19   \n",
       "\n",
       "     Jumlah Jawaban Benar pada Tes Pemecahan Masalah  \\\n",
       "15                                                 6   \n",
       "39                                                 6   \n",
       "90                                                 7   \n",
       "97                                                 8   \n",
       "122                                                7   \n",
       "201                                                6   \n",
       "237                                                7   \n",
       "265                                                7   \n",
       "289                                                7   \n",
       "339                                                7   \n",
       "380                                                8   \n",
       "386                                                6   \n",
       "\n",
       "    [optional] Kampus/universitas tujuan saat ini (pilihan 1)  \n",
       "15                               Universitas Airlangga         \n",
       "39                               Universitas Airlangga         \n",
       "90                                               UNESA         \n",
       "97                             University of Melbourne         \n",
       "122                                              UNESA         \n",
       "201                                                UGM         \n",
       "237                                                UGM         \n",
       "265                                                UCL         \n",
       "289                                                UCL         \n",
       "339                                                UGM         \n",
       "380                            University of Melbourne         \n",
       "386                                                UGM         "
      ]
     },
     "execution_count": 7,
     "metadata": {},
     "output_type": "execute_result"
    }
   ],
   "source": [
    "df[df.duplicated(keep=False) == True]"
   ]
  },
  {
   "cell_type": "markdown",
   "id": "scenic-network",
   "metadata": {},
   "source": [
    "Selanjutnya akan dilakukan penghapusan baris yang terduplikasi. Sebagai bukti bahwa baris terduplikasi sudah terhapus, akan diperlihatkan melalui adanya pengurangan jumlah baris dari dataset."
   ]
  },
  {
   "cell_type": "code",
   "execution_count": 8,
   "id": "twelve-yield",
   "metadata": {},
   "outputs": [
    {
     "name": "stdout",
     "output_type": "stream",
     "text": [
      "before > (431, 10)\n",
      "after > (425, 10)\n"
     ]
    }
   ],
   "source": [
    "print('before >', df.shape)\n",
    "df.drop_duplicates(inplace=True)\n",
    "print('after >', df.shape)"
   ]
  },
  {
   "cell_type": "markdown",
   "id": "dominican-contact",
   "metadata": {},
   "source": [
    "**Mengidentifikasi nilai invalid pada setiap kolom**"
   ]
  },
  {
   "cell_type": "code",
   "execution_count": 9,
   "id": "efficient-integrity",
   "metadata": {
    "scrolled": true
   },
   "outputs": [
    {
     "name": "stdout",
     "output_type": "stream",
     "text": [
      "Jenis Beasiswa \n",
      " >>> ['Targeted' 'Reguler' 'Afirmasi']\n",
      "Tingkat Pendidikan yang Dituju \n",
      " >>> ['S2' 'S3']\n",
      "Negara Tujuan Kuliah \n",
      " >>> ['Dalam negeri' 'Luar Negeri']\n",
      "Bidang Studi yang dipilih saat mendaftar \n",
      " >>> ['TRP' 'ENE' 'ELE' 'LIN' 'Dev' 'HUM' 'AFR' 'BUS' 'WAT' 'MAR' 'SOS' 'HOS'\n",
      " 'STA' 'EDU' 'DEV' 'ICT' 'LAW' 'SGY' 'ACF' 'IPA' 'PHA' 'FOR' 'COM' 'DEF'\n",
      " 'PUB' 'SOs' 'ATM' 'ENV' 'ENG' '-' 'CBS' 'CHE' 'KES' 'ECT' 'AER' 'ARC'\n",
      " 'BIO' 'POL' 'Bus' 'M' 'Afr' 'SOC' 'MED' 'CIV' 'PSY' 'MET' 'ECO' 'Bio'\n",
      " 'TEK' 'FOO' 'Tra' 'ART' 'ENT' 'Civ' 'TRA' 'GEO' 'LNY' 'BK' 'ETC' 'PHY'\n",
      " 'INS' 'ACC' 'OCE' 'bus' 'MAT' 'Ipa' 'For' 'BuS' 'EAM' 'NUR' 'PTK' 'ANT'\n",
      " 'CE' 'Trp' 'TEL' 'EDu' 'Hum' '0' 'arc' 'Psi' 'TP' 'TFM' 'AGB' 'Law' '718']\n",
      "Mendaftar dengan menggunakan LoA sesuai ketentuan LPDP \n",
      " >>> ['Tidak' 'Ya, dengan Loa']\n",
      "Apakah anda dinyatakan Lulus Seleksi Substansi Akademik Pada gelombang I Tahun 2021? \n",
      " >>> ['Ya' 'Tidak']\n",
      "Jumlah Jawaban Benar pada Tes Penalaran Verbal \n",
      " >>> [10 17 16 15 14 13 20 12 18 19 11  9  7  8 21  6 22  0 23]\n",
      "Jumlah Jawaban Benar pada Tes Kuantitatif \n",
      " >>> [12 22 18  9 11 16 19 15 14 13 17 21  8 20  7 23 10  6 24  0  5  2 25]\n",
      "Jumlah Jawaban Benar pada Tes Pemecahan Masalah \n",
      " >>> [ 6  8  7  4  5  3  9  2 12 10  1  0]\n",
      "[optional] Kampus/universitas tujuan saat ini (pilihan 1) \n",
      " >>> ['Universitas Indonesia' 'UCL' 'KTH Sweden' 'UGM'\n",
      " 'University of Birmingham' 'KU leuven' 'Universitas Gadjah Mada' nan\n",
      " 'Uni of Reading' 'University of Auckland' 'IHE Delft'\n",
      " 'University of Michigan' 'Universitas Airlangga' 'Durham University'\n",
      " 'UNY' 'New York University' 'Penn State University' 'York University'\n",
      " 'University of Glasgow' 'University of Edinburgh' 'IPB' 'Titech' 'UPI'\n",
      " 'TU Delft' 'Lund University' 'Univ of Leeds' 'LSE' 'ITS' 'UI'\n",
      " 'University of Sussex' 'ITB' 'Pennsylvania State University'\n",
      " 'University of Melbourne' 'Columbia University' 'University of Adelaide'\n",
      " 'Universitas Pendidikan Indonesia' 'unsw' 'Georgetown University' 'Ugm'\n",
      " 'Sweden' 'Wageningen University and Research' 'University of Tokyo' 'MIT'\n",
      " 'ICL' 'INSEAD' 'University of Helsinki' 'University of Twente'\n",
      " 'Johns Hopkins University' 'KCL' 'UNESA' 'Wur' 'Harvard University' 'NUS'\n",
      " 'University of Southern California' 'UC Berkeley'\n",
      " 'University of Manchester' 'U of Alberta' 'Arizona State University' 'U'\n",
      " 'Monash university australia' 'Purdue University' 'ISS'\n",
      " 'University of Groningen' 'Unsoed' 'University of Bristol' 'WUR'\n",
      " 'Stanford University' 'Kth' 'NTU Singapore' 'UAL'\n",
      " 'Bournemouth University' 'UNAIR' 'ANU' 'Nus' 'Uni of Michigan'\n",
      " 'University of Leeds' 'TU M�nchen' 'Goldsmiths, University of London'\n",
      " 'Erasmus University Rotterdam' 'Unpad' 'Institut Pertanian Bogor'\n",
      " \"King's College London\" 'Universitas Tadulako' 'TU DELFT'\n",
      " 'Universitas Malang' 'UNNES' 'UC Davis'\n",
      " 'The Australian National University' 'Uppsala University'\n",
      " 'University of Warwick' 'Leiden University' 'The University of Sheffield'\n",
      " 'University of Cambridge' 'Universitas gadjah mada' 'Ghent University'\n",
      " 'Itb' 'Imperial College London' 'MSU' 'KCL - Strategic Communication'\n",
      " 'The University of Manchester' 'Carnegie Mellon University' 'Unsw'\n",
      " 'University of Geneva' 'London School of Hygiene & Tropical Medicine'\n",
      " 'Yale' 'Wageningen University & Research' 'Univ of Melbourne'\n",
      " 'UIN Jakarta' 'University of Sydney' 'universitas indonesia'\n",
      " 'Uni of Auckland' 'Universitas Padjadjaran' 'Ui' 'Monahs University'\n",
      " 'Cornell University' 'University of Wisconsin - Madison'\n",
      " 'Politecnico di Milano' 'University of Pennsylvania'\n",
      " 'King�s College London' 'USA' 'UK' 'JHU' 'UM' 'UPI BANDUNG'\n",
      " 'university of birmingham' 'Monash' 'Universitas Malaya'\n",
      " 'Univ. Brawijaya' 'ETH Zurich' 'University of Amsterdam' 'RWTH Aachen'\n",
      " 'UNSW' 'Radboud University' 'Wageningen' 'UniMelb'\n",
      " 'Wageningen University' 'UNIVERSITAS INDONESIA' 'Yonsei University'\n",
      " 'British Columbia University Canada' 'Leiden University Belanda'\n",
      " 'University of Texas' 'Universitas Negeri Malang'\n",
      " 'Universitas Muhammadiyah Surakarta' 'Univ Pendidikan Indonesia/ UPI'\n",
      " 'Bath School of Management: MBA' 'NTU' 'Sriwijaya' 'Sheffield'\n",
      " 'University of york' 'Warwick' 'Osaka university' 'ugm'\n",
      " 'politecnico di milano' 'ucl' 'undip' 'unpad' 'Universitas Sebelas Maret'\n",
      " 'Unhas' 'ISI Denpasar' 'Upi' 'Universitas hasanuddin'\n",
      " 'Universitas Negeri Yogyakarta' 'Kings College London' 'UB' 'UGM, UI'\n",
      " 'Institut Teknologi Bandung']\n"
     ]
    }
   ],
   "source": [
    "for i in range(0, df.shape[1]):\n",
    "    cols = df.columns[i]\n",
    "    classes = df.iloc[:,i].unique()\n",
    "    print(cols, '\\n', '>>>', classes)"
   ]
  },
  {
   "cell_type": "markdown",
   "id": "abandoned-blues",
   "metadata": {},
   "source": [
    "Kolom index ke-0, 1, 2, 4, dan 5 tidak perlu dimodifikasi karena merupakan data kategorikal dengan kelas yang jumlahnya terbatas. Untuk kolom index ke-6, 7, dan 8 juga tidak perlu dimodifikasi karena nilanya numerik. Meski numerik, nilainya bukanlah kontinu, melainkan diskrit.\n",
    "\n",
    "Terlihat terdapat masalah pada kolom index ke-3 dan 9 karena banyak data yang terduplikasi dimana seharusnya bisa menjadi 1 label atau kelas yang sama. Hal ini kemungkinan disebabkan oleh human error sehingga terjadi ketidakseragaman input. Oleh karena itu, akan diubah data pada kolom index ke-3 agar model machine learning nantinya tidak melihat label atau kelas tersebut sebagai label atau kelas yang berbeda."
   ]
  },
  {
   "cell_type": "markdown",
   "id": "recovered-grass",
   "metadata": {},
   "source": [
    "Selanjutnya akan dilihat nilai unik dari kolom tersebut untuk dapat menentukan nilai mana saja yang dapat digabung menjadi satu kelas dan nilai mana yang bisa dihapus atau dimark sebagai missing value."
   ]
  },
  {
   "cell_type": "code",
   "execution_count": 10,
   "id": "pending-lebanon",
   "metadata": {},
   "outputs": [
    {
     "data": {
      "text/plain": [
       "array(['TRP', 'ENE', 'ELE', 'LIN', 'Dev', 'HUM', 'AFR', 'BUS', 'WAT',\n",
       "       'MAR', 'SOS', 'HOS', 'STA', 'EDU', 'DEV', 'ICT', 'LAW', 'SGY',\n",
       "       'ACF', 'IPA', 'PHA', 'FOR', 'COM', 'DEF', 'PUB', 'SOs', 'ATM',\n",
       "       'ENV', 'ENG', '-', 'CBS', 'CHE', 'KES', 'ECT', 'AER', 'ARC', 'BIO',\n",
       "       'POL', 'Bus', 'M', 'Afr', 'SOC', 'MED', 'CIV', 'PSY', 'MET', 'ECO',\n",
       "       'Bio', 'TEK', 'FOO', 'Tra', 'ART', 'ENT', 'Civ', 'TRA', 'GEO',\n",
       "       'LNY', 'BK', 'ETC', 'PHY', 'INS', 'ACC', 'OCE', 'bus', 'MAT',\n",
       "       'Ipa', 'For', 'BuS', 'EAM', 'NUR', 'PTK', 'ANT', 'CE', 'Trp',\n",
       "       'TEL', 'EDu', 'Hum', '0', 'arc', 'Psi', 'TP', 'TFM', 'AGB', 'Law',\n",
       "       '718'], dtype=object)"
      ]
     },
     "execution_count": 10,
     "metadata": {},
     "output_type": "execute_result"
    }
   ],
   "source": [
    "df.iloc[:,3].unique()"
   ]
  },
  {
   "cell_type": "markdown",
   "id": "antique-switzerland",
   "metadata": {},
   "source": [
    "Terdapat beberapa label atau kelas yang dapat digabung. Maka, akan diubah satu per satu dengan str.replace"
   ]
  },
  {
   "cell_type": "code",
   "execution_count": 11,
   "id": "executive-bouquet",
   "metadata": {},
   "outputs": [],
   "source": [
    "df.iloc[:,3] = df.iloc[:,3].str.replace('law', 'LAW', case=False)\n",
    "df.iloc[:,3] = df.iloc[:,3].str.replace('psi', 'PSY', case=False)\n",
    "df.iloc[:,3] = df.iloc[:,3].str.replace('hum', 'HUM', case=False)\n",
    "df.iloc[:,3] = df.iloc[:,3].str.replace('trp', 'TRP', case=False)\n",
    "df.iloc[:,3] = df.iloc[:,3].str.replace('edu', 'EDU', case=False)\n",
    "df.iloc[:,3] = df.iloc[:,3].str.replace('trp', 'TRP', case=False)\n",
    "df.iloc[:,3] = df.iloc[:,3].str.replace('ipa', 'IPA', case=False)\n",
    "df.iloc[:,3] = df.iloc[:,3].str.replace('civ', 'CIV', case=False)\n",
    "df.iloc[:,3] = df.iloc[:,3].str.replace('bus', 'BUS', case=False)\n",
    "df.iloc[:,3] = df.iloc[:,3].str.replace('bio', 'BIO', case=False)\n",
    "df.iloc[:,3] = df.iloc[:,3].str.replace('dev', 'DEV', case=False)\n",
    "df.iloc[:,3] = df.iloc[:,3].str.replace('sos', 'SOS', case=False)\n",
    "df.iloc[:,3] = df.iloc[:,3].str.replace('arc', 'ARC', case=False)\n",
    "df.iloc[:,3] = df.iloc[:,3].str.replace('tra', 'TRA', case=False)\n",
    "df.iloc[:,3] = df.iloc[:,3].str.replace('for', 'FOR', case=False)"
   ]
  },
  {
   "cell_type": "markdown",
   "id": "present-guinea",
   "metadata": {},
   "source": [
    "Setelah dilakukan perubahan, berikut merupakan label atau kelas unik yang tersisa."
   ]
  },
  {
   "cell_type": "code",
   "execution_count": 12,
   "id": "modular-borough",
   "metadata": {
    "scrolled": true
   },
   "outputs": [
    {
     "data": {
      "text/plain": [
       "array(['TRP', 'ENE', 'ELE', 'LIN', 'DEV', 'HUM', 'AFR', 'BUS', 'WAT',\n",
       "       'MAR', 'SOS', 'HOS', 'STA', 'EDU', 'ICT', 'LAW', 'SGY', 'ACF',\n",
       "       'IPA', 'PHA', 'FOR', 'COM', 'DEF', 'PUB', 'ATM', 'ENV', 'ENG', '-',\n",
       "       'CBS', 'CHE', 'KES', 'ECT', 'AER', 'ARC', 'BIO', 'POL', 'M', 'Afr',\n",
       "       'SOC', 'MED', 'CIV', 'PSY', 'MET', 'ECO', 'TEK', 'FOO', 'TRA',\n",
       "       'ART', 'ENT', 'GEO', 'LNY', 'BK', 'ETC', 'PHY', 'INS', 'ACC',\n",
       "       'OCE', 'MAT', 'EAM', 'NUR', 'PTK', 'ANT', 'CE', 'TEL', '0', 'TP',\n",
       "       'TFM', 'AGB', '718'], dtype=object)"
      ]
     },
     "execution_count": 12,
     "metadata": {},
     "output_type": "execute_result"
    }
   ],
   "source": [
    "df.iloc[:,3].unique()"
   ]
  },
  {
   "cell_type": "markdown",
   "id": "chronic-unemployment",
   "metadata": {},
   "source": [
    "Namun, dapat dilihat bahwa masih terdapat beberapa label atau kelas yang memiliki nilai 'invalid', yaitu label atau kelas 0, 718, dan -.\n",
    "Untuk label atau kelas tersebut, dapat dilakukan drop baris atau dimark sebagai missing value kemudian dilakukan imputasi."
   ]
  },
  {
   "cell_type": "code",
   "execution_count": 13,
   "id": "existing-football",
   "metadata": {
    "scrolled": true
   },
   "outputs": [
    {
     "data": {
      "text/plain": [
       "Jenis Beasiswa                                                                           0\n",
       "Tingkat Pendidikan yang Dituju                                                           0\n",
       "Negara Tujuan Kuliah                                                                     0\n",
       "Bidang Studi yang dipilih saat mendaftar                                                 4\n",
       "Mendaftar dengan menggunakan LoA sesuai ketentuan LPDP                                   0\n",
       "Apakah anda dinyatakan Lulus Seleksi Substansi Akademik Pada gelombang I Tahun 2021?     0\n",
       "Jumlah Jawaban Benar pada Tes Penalaran Verbal                                           0\n",
       "Jumlah Jawaban Benar pada Tes Kuantitatif                                                0\n",
       "Jumlah Jawaban Benar pada Tes Pemecahan Masalah                                          0\n",
       "[optional] Kampus/universitas tujuan saat ini (pilihan 1)                               79\n",
       "dtype: int64"
      ]
     },
     "execution_count": 13,
     "metadata": {},
     "output_type": "execute_result"
    }
   ],
   "source": [
    "df.iloc[:,3] = df.iloc[:,3].replace('0', nan)\n",
    "df.iloc[:,3] = df.iloc[:,3].replace('718', nan)\n",
    "df.iloc[:,3] = df.iloc[:,3].replace('-', nan)\n",
    "df.isnull().sum()"
   ]
  },
  {
   "cell_type": "code",
   "execution_count": 14,
   "id": "occupied-entrepreneur",
   "metadata": {
    "scrolled": false
   },
   "outputs": [
    {
     "data": {
      "text/plain": [
       "Jenis Beasiswa                                                                          0\n",
       "Tingkat Pendidikan yang Dituju                                                          0\n",
       "Negara Tujuan Kuliah                                                                    0\n",
       "Bidang Studi yang dipilih saat mendaftar                                                0\n",
       "Mendaftar dengan menggunakan LoA sesuai ketentuan LPDP                                  0\n",
       "Apakah anda dinyatakan Lulus Seleksi Substansi Akademik Pada gelombang I Tahun 2021?    0\n",
       "Jumlah Jawaban Benar pada Tes Penalaran Verbal                                          0\n",
       "Jumlah Jawaban Benar pada Tes Kuantitatif                                               0\n",
       "Jumlah Jawaban Benar pada Tes Pemecahan Masalah                                         0\n",
       "[optional] Kampus/universitas tujuan saat ini (pilihan 1)                               0\n",
       "dtype: int64"
      ]
     },
     "execution_count": 14,
     "metadata": {},
     "output_type": "execute_result"
    }
   ],
   "source": [
    "df.iloc[:,3].fillna(df.iloc[:,3].mode()[0], inplace=True)\n",
    "df.dropna(inplace=True)\n",
    "df.isnull().sum()"
   ]
  },
  {
   "cell_type": "markdown",
   "id": "quiet-economics",
   "metadata": {},
   "source": [
    "**Identifikasi Outliers**"
   ]
  },
  {
   "cell_type": "markdown",
   "id": "qualified-seattle",
   "metadata": {},
   "source": [
    "Karena data sudah bersih, maka akan dilanjutkan kepada tahap berikutnya, yaitu mengidentifikasi outliers. Tahap pertama yang perlu dilakukan yaitu memeriksa distribusi dari setiap kolom. Jika suatu kolom memiliki distribusi Gaussian, maka metode identifikasi outlier yang digunakan yaitu dengan standar deviasi. Sedangkan untuk kolom yang tidak memiliki distribusi Gaussian, maka metode identifikasi outlier yang digunakan yaitu dengan IQR (interquartile range)."
   ]
  },
  {
   "cell_type": "code",
   "execution_count": 15,
   "id": "revised-butterfly",
   "metadata": {
    "scrolled": false
   },
   "outputs": [
    {
     "data": {
      "image/png": "[encoded data removed]",
      "text/plain": [
       "<Figure size 720x504 with 4 Axes>"
      ]
     },
     "metadata": {
      "needs_background": "light"
     },
     "output_type": "display_data"
    }
   ],
   "source": [
    "df.hist(bins=15, figsize=(10,7))\n",
    "plt.show()"
   ]
  },
  {
   "cell_type": "markdown",
   "id": "neither-second",
   "metadata": {},
   "source": [
    "Berdasarkan histogram di atas, terlihat bahwa semua kolomnya memiliki distribusi Gaussian. Oleh karena itu, akan dilakukan identifikasi outliers dengan metode standar deviasi."
   ]
  },
  {
   "cell_type": "code",
   "execution_count": 16,
   "id": "coated-liquid",
   "metadata": {},
   "outputs": [],
   "source": [
    "def stdev_method(col_name):\n",
    "    data_mean, data_std = mean(df[col_name]), std(df[col_name])\n",
    "    cut_off = data_std * 3\n",
    "    lower, upper = data_mean - cut_off, data_mean + cut_off\n",
    "    outliers = [x for x in df[col_name] if x < lower or x > upper]\n",
    "    print(col_name,'\\n' ,'>>> Identified outliers: %d' % len(outliers))\n",
    "    print(outliers)\n",
    "    outliers_removed = [x for x in df[col_name] if x >= lower and x <= upper]\n",
    "    print(' >>> Non-outliers observations: %d' % len(outliers_removed))"
   ]
  },
  {
   "cell_type": "code",
   "execution_count": 17,
   "id": "located-folder",
   "metadata": {},
   "outputs": [
    {
     "name": "stdout",
     "output_type": "stream",
     "text": [
      "Jumlah Jawaban Benar pada Tes Penalaran Verbal \n",
      " >>> Identified outliers: 3\n",
      "[6, 0, 23]\n",
      " >>> Non-outliers observations: 343\n",
      "Jumlah Jawaban Benar pada Tes Kuantitatif \n",
      " >>> Identified outliers: 1\n",
      "[0]\n",
      " >>> Non-outliers observations: 345\n",
      "Jumlah Jawaban Benar pada Tes Pemecahan Masalah \n",
      " >>> Identified outliers: 5\n",
      "[12, 12, 12, 0, 12]\n",
      " >>> Non-outliers observations: 341\n"
     ]
    }
   ],
   "source": [
    "std_detection = ['Jumlah Jawaban Benar pada Tes Penalaran Verbal',\n",
    "                 'Jumlah Jawaban Benar pada Tes Kuantitatif',\n",
    "                 'Jumlah Jawaban Benar pada Tes Pemecahan Masalah']\n",
    "\n",
    "for i in std_detection:\n",
    "    stdev_method(i)"
   ]
  },
  {
   "cell_type": "code",
   "execution_count": 18,
   "id": "concerned-monitor",
   "metadata": {},
   "outputs": [
    {
     "name": "stdout",
     "output_type": "stream",
     "text": [
      "(346, 10)\n",
      "(340, 10)\n"
     ]
    }
   ],
   "source": [
    "print(df.shape)\n",
    "df.drop(df.index[df.iloc[:, 6] == 6], inplace=True)\n",
    "df.drop(df.index[df.iloc[:, 6] == 0], inplace=True)\n",
    "df.drop(df.index[df.iloc[:, 6] == 23], inplace=True)\n",
    "df.drop(df.index[df.iloc[:, 7] == 0], inplace=True)\n",
    "df.drop(df.index[df.iloc[:, 8] == 12], inplace=True)\n",
    "df.drop(df.index[df.iloc[:, 8] == 0], inplace=True) \n",
    "print(df.shape)"
   ]
  },
  {
   "cell_type": "code",
   "execution_count": 19,
   "id": "warming-instruction",
   "metadata": {},
   "outputs": [],
   "source": [
    "def prepare_inputs(X_train, X_test):\n",
    "\toe = OneHotEncoder(handle_unknown='ignore')\n",
    "\toe.fit(X_train)\n",
    "\tX_train_enc = oe.transform(X_train)\n",
    "\tX_test_enc = oe.transform(X_test)\n",
    "\treturn X_train_enc, X_test_enc\n",
    "\n",
    "def prepare_targets(y_train, y_test):\n",
    "\tle = LabelEncoder()\n",
    "\tle.fit(y_train)\n",
    "\ty_train_enc = le.transform(y_train)\n",
    "\ty_test_enc = le.transform(y_test)\n",
    "\treturn y_train_enc, y_test_enc\n",
    "\n",
    "# feature selection\n",
    "def select_features(X_train, y_train, X_test):\n",
    "\tfs = SelectKBest(score_func=mutual_info_classif, k=4)\n",
    "\tfs.fit(X_train, y_train)\n",
    "\tX_train_fs = fs.transform(X_train)\n",
    "\tX_test_fs = fs.transform(X_test)\n",
    "\treturn X_train_fs, X_test_fs, fs"
   ]
  },
  {
   "cell_type": "code",
   "execution_count": 20,
   "id": "constitutional-spectrum",
   "metadata": {
    "scrolled": true
   },
   "outputs": [
    {
     "name": "stdout",
     "output_type": "stream",
     "text": [
      "Mean Accuracy: 0.780 (0.039)\n"
     ]
    }
   ],
   "source": [
    "X = df.iloc[:,[0,1,2,3,4,6,7,8,9]].values\n",
    "y = df.iloc[:, 5].values\n",
    "X_train, X_test, y_train, y_test = train_test_split(X, y, test_size=0.33, random_state=1)\n",
    "\n",
    "X_train_enc, X_test_enc = prepare_inputs(X_train, X_test)\n",
    "y_train_enc, y_test_enc = prepare_targets(y_train, y_test)\n",
    "X_train_fs, X_test_fs, fs = select_features(X_train_enc, y_train_enc, X_test_enc)\n",
    "\n",
    "model = LogisticRegression(solver='liblinear')\n",
    "model.fit(X_train_fs, y_train_enc)\n",
    "scaler = MinMaxScaler()\n",
    "pipeline = Pipeline(steps=[('s', scaler), ('m', model)])\n",
    "\n",
    "cv = RepeatedStratifiedKFold(n_splits=10, n_repeats=3, random_state=1)\n",
    "scores = cross_val_score(model, X_test_fs, y_test_enc, scoring='accuracy', cv=cv, n_jobs=-1)\n",
    "print('Mean Accuracy: %.3f (%.3f)' % (mean(scores), std(scores)))"
   ]
  },
  {
   "cell_type": "code",
   "execution_count": null,
   "id": "dated-discovery",
   "metadata": {},
   "outputs": [],
   "source": []
  }
 ],
 "metadata": {
  "kernelspec": {
   "display_name": "Python 3",
   "language": "python",
   "name": "python3"
  },
  "language_info": {
   "codemirror_mode": {
    "name": "ipython",
    "version": 3
   },
   "file_extension": ".py",
   "mimetype": "text/x-python",
   "name": "python",
   "nbconvert_exporter": "python",
   "pygments_lexer": "ipython3",
   "version": "3.8.0"
  }
 },
 "nbformat": 4,
 "nbformat_minor": 5
}
